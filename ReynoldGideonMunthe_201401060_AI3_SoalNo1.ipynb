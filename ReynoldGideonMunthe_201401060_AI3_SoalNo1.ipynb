{
  "nbformat": 4,
  "nbformat_minor": 0,
  "metadata": {
    "colab": {
      "provenance": [],
      "authorship_tag": "ABX9TyP5bzDMT6YGZ0zHz5mKQAjE",
      "include_colab_link": true
    },
    "kernelspec": {
      "name": "python3",
      "display_name": "Python 3"
    },
    "language_info": {
      "name": "python"
    }
  },
  "cells": [
    {
      "cell_type": "markdown",
      "metadata": {
        "id": "view-in-github",
        "colab_type": "text"
      },
      "source": [
        "<a href=\"https://colab.research.google.com/github/reynold060/UTS_Lab_KCB/blob/main/ReynoldGideonMunthe_201401060_AI3_SoalNo1.ipynb\" target=\"_parent\"><img src=\"https://colab.research.google.com/assets/colab-badge.svg\" alt=\"Open In Colab\"/></a>"
      ]
    },
    {
      "cell_type": "code",
      "execution_count": null,
      "metadata": {
        "colab": {
          "base_uri": "https://localhost:8080/"
        },
        "id": "lDnQWNGvUAtg",
        "outputId": "9643d0fc-0326-4596-aa3e-9bd32c9e676f"
      },
      "outputs": [
        {
          "output_type": "stream",
          "name": "stdout",
          "text": [
            "Masukkan kata atau frasa: Kasur ini Rusak\n",
            "Kata atau frasa tersebut adalah Palindrome!\n"
          ]
        }
      ],
      "source": [
        "kata = input(\"Masukkan kata atau frasa: \")\n",
        "\n",
        "# Menghapus spasi dan mengubah huruf menjadi lowercase\n",
        "kata = kata.replace(\" \", \"\").lower()\n",
        "\n",
        "# Membalikkan urutan karakter pada kata atau frasa\n",
        "kata_terbalik = kata[::-1]\n",
        "\n",
        "# Memeriksa apakah kata atau frasa asli sama dengan kata atau frasa terbalik\n",
        "if kata == kata_terbalik:\n",
        "    print(\"Kata atau frasa tersebut adalah Palindrome!\")\n",
        "else:\n",
        "    print(\"Kata atau frasa tersebut bukan Palindrome.\")"
      ]
    }
  ]
}